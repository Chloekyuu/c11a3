{
 "cells": [
  {
   "cell_type": "code",
   "execution_count": 662,
   "metadata": {
    "id": "J1grKKjV-nzO",
    "outputId": "2b07549d-7ba6-4e10-dd9d-b232e58d6d35"
   },
   "outputs": [],
   "source": [
    "# pip install librosa"
   ]
  },
  {
   "cell_type": "code",
   "execution_count": 663,
   "metadata": {
    "id": "0CQf65BS-nzT",
    "outputId": "37de0002-4906-4e99-a47f-609be2f2fade"
   },
   "outputs": [
    {
     "data": {
      "text/plain": [
       "'\\nPlease install this specific version of resampy for librosa to work without errors.\\n'"
      ]
     },
     "execution_count": 663,
     "metadata": {},
     "output_type": "execute_result"
    }
   ],
   "source": [
    "'''\n",
    "Please install this specific version of resampy for librosa to work without errors.\n",
    "'''"
   ]
  },
  {
   "cell_type": "code",
   "execution_count": 664,
   "metadata": {
    "id": "7FE1qM7n-nzU",
    "outputId": "02c7b706-8c9c-42b4-ed25-b98f7cd915de"
   },
   "outputs": [],
   "source": [
    "# pip install resampy==0.3.1"
   ]
  },
  {
   "cell_type": "code",
   "execution_count": 665,
   "metadata": {
    "id": "_hwFIUlFzTYw",
    "outputId": "9419a67b-5c1d-47e0-a7f5-ec9b9cad5bca"
   },
   "outputs": [],
   "source": [
    "import soundfile\n",
    "import os\n",
    "import glob\n",
    "import pandas as pd\n",
    "import numpy as np\n",
    "from sklearn.model_selection import train_test_split\n",
    "import librosa\n",
    "from sklearn.svm import SVC, LinearSVC\n",
    "from sklearn.metrics import classification_report\n",
    "import warnings; warnings.filterwarnings('ignore')"
   ]
  },
  {
   "cell_type": "code",
   "execution_count": 666,
   "metadata": {
    "id": "GWrZdqrp2E98"
   },
   "outputs": [],
   "source": [
    "emotions ={\n",
    "  '01':'neutral',\n",
    "  '02':'calm',\n",
    "  '03':'happy',\n",
    "  '04':'sad',\n",
    "  '05':'angry',\n",
    "  '06':'fearful',\n",
    "  '07':'disgust',\n",
    "  '08':'surprised'\n",
    "}"
   ]
  },
  {
   "cell_type": "markdown",
   "metadata": {
    "id": "UrgQMSEU-nzZ"
   },
   "source": [
    "### Data for binary classification\n"
   ]
  },
  {
   "cell_type": "code",
   "execution_count": 667,
   "metadata": {
    "id": "vSe0sBT12HgO"
   },
   "outputs": [],
   "source": [
    "def load_extract_features(data_path):\n",
    "\n",
    "    '''\n",
    "    load_extract_features() is a function that is used to load all the audio files one at a time, compute their features and return the features as well as the target values.\n",
    "\n",
    "    There are around 8-10 audio files which are corrupted. We hardcode zero values for such files in order to maintain consistency.\n",
    "\n",
    "    ['calm', 'happy'] emotion data is categorized into 'positive' and  ['angry', 'fearful'] into 'negative'\n",
    "\n",
    "    Returns:\n",
    "    1. Features\n",
    "    2. Binary Target Values\n",
    "    '''\n",
    "    final_features,target_emotions, binary_label = [],[], []\n",
    "    count = 0\n",
    "    \n",
    "    for i in glob.glob(data_path + \"/Actor_*/*.wav\"): #Loop to read every file.\n",
    "        \n",
    "        name = os.path.basename(i)\n",
    "        #We split the name of the file to understand the emotion associated with the file.\n",
    "        split = name.split(\"-\")\n",
    "        #We know that the third identifier is associated with the emotion of the audio file. Hence, we use [2] as it represents the third identifier.\n",
    "        emotion = emotions[split[2]]\n",
    "\n",
    "        #Below is the code to categorize the emotions into two classes to make this a binary problem.\n",
    "        if emotion in ['calm', 'happy']:\n",
    "            binary_label.append(0)\n",
    "        elif emotion in ['angry', 'fearful']:\n",
    "            binary_label.append(1)\n",
    "        else:\n",
    "            continue\n",
    "        \n",
    "        with soundfile.SoundFile(i) as audio:\n",
    "            waveform = audio.read(dtype=\"float32\")\n",
    "            sr = audio.samplerate\n",
    "            \n",
    "            #Below is the code to extract the Mel spectrogram features\n",
    "            #128 is the standard for machine learning applications using Mel spectrograms\n",
    "            m_feature = librosa.feature.melspectrogram(y=waveform, sr=sr, n_mels=128, fmax=sr / 2.0).T\n",
    "            melspectrogram = np.mean(m_feature,axis=0)\n",
    "            if melspectrogram.shape != (128,):\n",
    "                melspectrogram = np.zeros(128)\n",
    "            \n",
    "            #Below is the code to extract the chromagram features\n",
    "            stft_wave = librosa.stft(waveform)\n",
    "            stft = np.abs(stft_wave)\n",
    "            c_feature = librosa.feature.chroma_stft(S=stft, sr=sr).T\n",
    "            chromagram = np.mean(c_feature,axis=0)\n",
    "            \n",
    "            #12 is the number of pitch classes\n",
    "            if chromagram.shape != (12,):\n",
    "                chromagram = np.zeros(12)\n",
    "                \n",
    "            features=np.array([])\n",
    "            features=np.hstack((chromagram, melspectrogram))\n",
    "        \n",
    "            final_features.append(features)\n",
    "            target_emotions.append(emotion)\n",
    "            \n",
    "            count += 1\n",
    "            if count % 100 == 0:\n",
    "                print(\"Processed Audio File Number: \", count)\n",
    "    \n",
    "    #We return the features and the binary target values.\n",
    "    return np.array(final_features), np.array(binary_label)"
   ]
  },
  {
   "cell_type": "code",
   "execution_count": 668,
   "metadata": {
    "id": "aER6S-_k2a9H"
   },
   "outputs": [],
   "source": [
    "#Please change the path below to the path of the folder saved in your computer.\n",
    "# data_path = './Audio_Speech_Actors_01-24'\n",
    "# X, binary_label = load_extract_features(data_path)\n",
    "# print(X.shape)\n",
    "# print(binary_label.shape)\n"
   ]
  },
  {
   "cell_type": "code",
   "execution_count": 669,
   "metadata": {},
   "outputs": [],
   "source": [
    "# np.savetxt('matrix.txt', X, delimiter = ',')  \n",
    "# np.savetxt('binary_label.txt',binary_label,delimiter = ',')"
   ]
  },
  {
   "cell_type": "code",
   "execution_count": 670,
   "metadata": {},
   "outputs": [
    {
     "name": "stdout",
     "output_type": "stream",
     "text": [
      "(768, 140)\n",
      "(768,)\n"
     ]
    }
   ],
   "source": [
    "X = np.loadtxt(open(\"matrix.txt\",\"rb\"), delimiter=\",\", skiprows=0)\n",
    "binary_label = np.loadtxt(open(\"binary_label.txt\",\"rb\"), delimiter=\",\", skiprows=0)\n",
    "\n",
    "print(X.shape) #should be (768,140)\n",
    "print(binary_label.shape) # should be (768,)"
   ]
  },
  {
   "cell_type": "code",
   "execution_count": 671,
   "metadata": {},
   "outputs": [],
   "source": [
    "X_bia = np.c_[X, np.ones(X.shape[0])]   # Pad 1's for the bias term\n",
    "l = 1  # lambda\n",
    "\n",
    "new_label = np.ones((binary_label.shape[0]))\n",
    "\n",
    "for i in range (binary_label.shape[0]):\n",
    "    if binary_label[i] == 0:\n",
    "        new_label[i] = -1\n",
    "\n",
    "X_train, X_test, y_train, y_test = train_test_split(X_bia, new_label, random_state=0)"
   ]
  },
  {
   "cell_type": "code",
   "execution_count": 672,
   "metadata": {},
   "outputs": [],
   "source": [
    "def compute_cost(W, X, Y, l):\n",
    "    # calculate hinge loss\n",
    "    n_s = X.shape[0]\n",
    "    distances = 1 - Y * (np.dot(X, W))\n",
    "    distances[distances < 0] = 0  # equivalent to max(0, distance)\n",
    "    hinge_loss =  (np.sum(distances) / n_s)\n",
    "    # calculate cost\n",
    "    cost = l / 2 * np.dot(W, W) + hinge_loss \n",
    "    \n",
    "    return cost"
   ]
  },
  {
   "cell_type": "code",
   "execution_count": 673,
   "metadata": {},
   "outputs": [],
   "source": [
    "def calculate_gradient(W, X, Y,l):\n",
    "\n",
    "    distance = 1 - (Y * np.dot(X, W))\n",
    "    dw = np.zeros(len(W))\n",
    "\n",
    "    for ind, d in enumerate(distance):\n",
    "        if (ind == W.shape[0]):\n",
    "            if max(0, d) != 0:\n",
    "                di =  - ( Y[ind] * X[ind])\n",
    "        else:\n",
    "            if max(0, d) == 0:\n",
    "                di = l*W\n",
    "            else:\n",
    "                di = l*W - ( Y[ind] * X[ind])\n",
    "        dw += di\n",
    "\n",
    "    dw = dw/len(Y)  # average\n",
    "\n",
    "    return dw"
   ]
  },
  {
   "cell_type": "code",
   "execution_count": 674,
   "metadata": {},
   "outputs": [],
   "source": [
    "def svm_accuracy(W,X,Y):\n",
    "    count = 0\n",
    "\n",
    "    for i in range(X.shape[0]):\n",
    "        yp = np.sign(np.dot(W, X[i])) #model\n",
    "        if(yp == Y[i]):\n",
    "            count = count +1\n",
    "\n",
    "    return count / Y.shape[0]"
   ]
  },
  {
   "cell_type": "code",
   "execution_count": 675,
   "metadata": {},
   "outputs": [],
   "source": [
    "def svm(X, Y, step, l):\n",
    "    w = np.zeros(X_train.shape[1])\n",
    "    cost = compute_cost(w, X, Y, l)\n",
    "    for i in range(1000):\n",
    "        grad = calculate_gradient(w, X, Y, l)\n",
    "        new_w = w - step * grad\n",
    "        new_cost = compute_cost(new_w, X, Y, l)\n",
    "        \n",
    "        if (new_cost<cost):\n",
    "            w = new_w\n",
    "            cost = new_cost\n",
    "    \n",
    "    return w"
   ]
  },
  {
   "cell_type": "code",
   "execution_count": 676,
   "metadata": {},
   "outputs": [],
   "source": [
    "# w_result = svm(X_train, y_train, 0.0001, l)\n",
    "# print(svm_accuracy(w_result, X_train, y_train))\n",
    "# print(svm_accuracy(w_result,X_test,y_test))"
   ]
  },
  {
   "cell_type": "code",
   "execution_count": 677,
   "metadata": {},
   "outputs": [],
   "source": [
    "def pca(X):\n",
    "    X_std = np.reshape(np.std(X,axis=0),(X.shape[1],1))\n",
    "    cov_mat = np.matmul(X_std , X_std.T)\n",
    "    values, vectors = np.linalg.eig(cov_mat)\n"
   ]
  },
  {
   "cell_type": "code",
   "execution_count": 678,
   "metadata": {},
   "outputs": [
    {
     "name": "stdout",
     "output_type": "stream",
     "text": [
      "[(0.9999999999999998-7.39417246213742e-33j), (1.0410471815546456e-16-7.697682401637137e-49j), (8.294029418708388e-17+5.26736316512916e-17j), (8.294029418708388e-17-5.26736316512916e-17j), (-9.049416857116076e-17+6.691294892328987e-49j), (-2.6143080848339216e-17+5.272666490992627e-17j), (-2.6143080848339216e-17-5.272666490992627e-17j), (3.63796781980979e-17+4.313267055970488e-17j), (3.63796781980979e-17-4.313267055970488e-17j), (-6.330727060587383e-17+4.681048769670341e-49j), (3.811204872071582e-17+3.06200840933644e-17j), (3.811204872071582e-17-3.06200840933644e-17j), (-4.9431026816923527e-17+3.655015372648724e-49j), (2.1915284924054994e-17+3.4589602909172373e-17j), (2.1915284924054994e-17-3.4589602909172373e-17j), (-3.787260223438806e-17+9.763059741299962e-18j), (-3.787260223438806e-17-9.763059741299962e-18j), (3.608943783048219e-17-2.668515273801719e-49j), (-3.6174685219920904e-17+2.674818612796288e-49j), (-1.9093424261878757e-17+2.6069275781494348e-17j), (-1.9093424261878757e-17-2.6069275781494348e-17j), (2.6205650615684836e-17-1.9376910013489137e-49j), (-2.0758604932677897e-17+1.9673213775757503e-17j), (-2.0758604932677897e-17-1.9673213775757503e-17j), (4.826436853959405e-18+2.750256911534395e-17j), (4.826436853959405e-18-2.750256911534395e-17j), (1.369054882663588e-17+2.4048849166369335e-17j), (1.369054882663588e-17-2.4048849166369335e-17j), (-4.880587994758822e-19+2.5847558583967147e-17j), (-4.880587994758822e-19-2.5847558583967147e-17j), (1.3173344182515539e-17-9.74059787886146e-50j), (-4.552658063570668e-18+7.27041387460569e-18j), (-4.552658063570668e-18-7.27041387460569e-18j), (7.128001774225436e-18+2.863166060468861e-18j), (7.128001774225436e-18-2.863166060468861e-18j), (1.0697908379689934e-18+6.048767941908632e-18j), (1.0697908379689934e-18-6.048767941908632e-18j), (-3.706559511261598e-18+4.2567800042439554e-18j), (-3.706559511261598e-18-4.2567800042439554e-18j), (-5.110530141132937e-18+3.7788141236488437e-50j), (3.3818914752415296e-18+1.7216768289187056e-18j), (3.3818914752415296e-18-1.7216768289187056e-18j), (-6.575272661025265e-19+3.322122267722843e-18j), (-6.575272661025265e-19-3.322122267722843e-18j), (-2.327160876421087e-18+1.7207428867396392e-50j), (-2.1271204622031338e-18+1.5728295545271437e-50j), (2.6273934847715283e-19+2.1382082865138797e-18j), (2.6273934847715283e-19-2.1382082865138797e-18j), (2.0646803825334013e-18-1.5266602827643836e-50j), (1.6164486892361686e-18+1.0735285425806905e-18j), (1.6164486892361686e-18-1.0735285425806905e-18j), (-1.1540012440791961e-18+4.0042882302414986e-19j), (-1.1540012440791961e-18-4.0042882302414986e-19j), (7.665117526680869e-19+6.82200568768349e-19j), (7.665117526680869e-19-6.82200568768349e-19j), (4.072918040656312e-19+8.492011706185888e-19j), (4.072918040656312e-19-8.492011706185888e-19j), (-3.784403825790818e-19+7.996763442411662e-19j), (-3.784403825790818e-19-7.996763442411662e-19j), (9.06790272881334e-19-6.704963664673239e-51j), (-6.383066570211248e-19+1.591467015496371e-19j), (-6.383066570211248e-19-1.591467015496371e-19j), (6.423149101425431e-19-4.749387220596264e-51j), (2.498367886557167e-19+4.2954946911860313e-19j), (2.498367886557167e-19-4.2954946911860313e-19j), (4.593062554012021e-19-3.3961896653750266e-51j), (1.3807815512683337e-19+4.118108833987469e-19j), (1.3807815512683337e-19-4.118108833987469e-19j), (-1.328767545839288e-19+4.0100593819354116e-19j), (-1.328767545839288e-19-4.0100593819354116e-19j), (-2.6873455488443614e-19+1.6162797177875994e-19j), (-2.6873455488443614e-19-1.6162797177875994e-19j), (3.3418400636924146e-19+1.8282684237381774e-20j), (3.3418400636924146e-19-1.8282684237381774e-20j), (-2.123384166874669e-19+1.570066873324329e-51j), (1.2750389830336002e-19+4.763264522413474e-20j), (1.2750389830336002e-19-4.763264522413474e-20j), (-1.2625806018684991e-19+9.335738717564947e-52j), (-7.315970165339844e-20+5.28453833761023e-20j), (-7.315970165339844e-20-5.28453833761023e-20j), (5.047037152988497e-20+8.107271511397066e-20j), (5.047037152988497e-20-8.107271511397066e-20j), (3.917426058198554e-20+8.116646792639709e-21j), (3.917426058198554e-20-8.116646792639709e-21j), (-1.8964037215180216e-20+2.979774637836977e-20j), (-1.8964037215180216e-20-2.979774637836977e-20j), (1.2895909772929384e-20+1.6239970274914008e-20j), (1.2895909772929384e-20-1.6239970274914008e-20j), (2.4374465531384734e-21-1.8022900181148278e-53j), (4.3135828083653116e-21-3.189537521476419e-53j), (-1.7349137917148612e-21+5.768230562090264e-22j), (-1.7349137917148612e-21-5.768230562090264e-22j), (-4.406787990928869e-22+9.027144720778677e-22j), (-4.406787990928869e-22-9.027144720778677e-22j), (7.30080614907753e-22+3.468720457049953e-22j), (7.30080614907753e-22-3.468720457049953e-22j), (-6.0798941734928595e-22+4.686994094551116e-22j), (-6.0798941734928595e-22-4.686994094551116e-22j), (3.9436376561986197e-22-2.9159936958112e-54j), (-3.4753714599715474e-22+2.5697495945019943e-54j), (-1.8410559119895537e-22+1.3613084925688457e-54j), (1.3436874137609322e-22+1.2530862680633747e-22j), (1.3436874137609322e-22-1.2530862680633747e-22j), (-4.71098105363584e-23+1.447216660862613e-22j), (-4.71098105363584e-23-1.447216660862613e-22j), (1.5338771251262915e-22+4.125447368451476e-23j), (1.5338771251262915e-22-4.125447368451476e-23j), (7.463891009672493e-23+1.203030946624774e-22j), (7.463891009672493e-23-1.203030946624774e-22j), (5.66811515586859e-23+7.677387417357615e-23j), (5.66811515586859e-23-7.677387417357615e-23j), (-8.101165479637157e-23+2.2148172691873968e-23j), (-8.101165479637157e-23-2.2148172691873968e-23j), (-2.375282228158003e-23+3.4854715429339427e-23j), (-2.375282228158003e-23-3.4854715429339427e-23j), (1.8541553650346475e-23+3.3860248242644296e-23j), (1.8541553650346475e-23-3.3860248242644296e-23j), (-3.417832397580958e-23+2.527204219439424e-55j), (-2.2928306417714622e-23+1.6953585191731416e-55j), (-1.3002810529690685e-23+7.937290487081609e-24j), (-1.3002810529690685e-23-7.937290487081609e-24j), (1.2116149307074511e-23-8.958889755351576e-56j), (4.933862583247513e-24+5.81943156255858e-24j), (4.933862583247513e-24-5.81943156255858e-24j), (4.535301929003684e-25+5.611091164281705e-24j), (4.535301929003684e-25-5.611091164281705e-24j), (-3.682474943435884e-24+2.7228854819264673e-56j), (-4.3463095134135395e-26+8.135110433204709e-25j), (-4.3463095134135395e-26-8.135110433204709e-25j), (-7.656242624831397e-25+5.661157837997105e-57j), (-1.3594350474809798e-25+3.074596185836884e-25j), (-1.3594350474809798e-25-3.074596185836884e-25j), (8.70112551951245e-26+3.812090902079001e-26j), (8.70112551951245e-26-3.812090902079001e-26j), (2.2303606621185278e-26+2.6787137347484236e-26j), (2.2303606621185278e-26-2.6787137347484236e-26j), (-7.615935452098919e-27+5.6313540193325945e-59j), (5.171004125214695e-27-3.8235296304261507e-59j), (-2.1749769632571622e-29+1.6082154767499384e-61j), (-3.453632077437857e-33+2.5536751201345463e-65j)]\n"
     ]
    }
   ],
   "source": [
    "X_train, X_test, y_train, y_test = train_test_split(X, binary_label, random_state=0)\n",
    "pca(X_train)"
   ]
  }
 ],
 "metadata": {
  "colab": {
   "provenance": []
  },
  "kernelspec": {
   "display_name": "Python 3.9.6 64-bit",
   "language": "python",
   "name": "python3"
  },
  "language_info": {
   "codemirror_mode": {
    "name": "ipython",
    "version": 3
   },
   "file_extension": ".py",
   "mimetype": "text/x-python",
   "name": "python",
   "nbconvert_exporter": "python",
   "pygments_lexer": "ipython3",
   "version": "3.9.6"
  },
  "vscode": {
   "interpreter": {
    "hash": "31f2aee4e71d21fbe5cf8b01ff0e069b9275f58929596ceb00d14d90e3e16cd6"
   }
  }
 },
 "nbformat": 4,
 "nbformat_minor": 1
}
